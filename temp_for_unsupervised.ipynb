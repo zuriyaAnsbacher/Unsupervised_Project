{
  "cells": [
    {
      "cell_type": "code",
      "execution_count": null,
      "metadata": {
        "id": "0Ptul3CEK0AS"
      },
      "outputs": [],
      "source": [
        "import pandas as pd\n",
        "import numpy as np\n",
        "\n",
        "from sklearn.svm import OneClassSVM\n",
        "from sklearn.mixture import GaussianMixture\n",
        "from sklearn.metrics import mutual_info_score\n",
        "from sklearn.cluster import KMeans\n",
        "import matplotlib.pyplot as plt\n",
        "\n",
        "plt.rcParams['font.family'] = 'serif'\n",
        "plt.rcParams['font.serif'] = ['Times New Roman'] + plt.rcParams['font.serif']"
      ]
    },
    {
      "cell_type": "code",
      "source": [
        "from google.colab import drive\n",
        "drive.mount('/content/drive')\n",
        "\n",
        "all_data = pd.read_csv(open('drive/MyDrive/USCensus1990.data.csv', 'r'))\n",
        "data = all_data.drop(columns = ['caseid', 'dAge', 'dHispanic', 'iYearwrk', 'iSex'])\n",
        "external_vars_list = ['dAge', 'dHispanic', 'iYearwrk', 'iSex']\n",
        "external_variables = all_data[external_vars_list]\n",
        "\n",
        "\n",
        "sample_size = 20000 \n",
        "data_sample = data.sample(sample_size)"
      ],
      "metadata": {
        "colab": {
          "base_uri": "https://localhost:8080/"
        },
        "id": "3BCVM_uTLG2E",
        "outputId": "3de150d6-9176-40a3-d2aa-f51ccc8a17d9"
      },
      "execution_count": null,
      "outputs": [
        {
          "output_type": "stream",
          "name": "stdout",
          "text": [
            "Drive already mounted at /content/drive; to attempt to forcibly remount, call drive.mount(\"/content/drive\", force_remount=True).\n"
          ]
        }
      ]
    },
    {
      "cell_type": "code",
      "source": [
        "def hist_plot(scores, bins_num, algo_name):\n",
        "  _, _, _ = plt.hist(scores, bins=bins_num)\n",
        "\n",
        "  plt.xlabel('Scores')\n",
        "  plt.ylabel('Frequency')\n",
        "  if algo_name == 'gmm':\n",
        "    plt.yscale('log')\n",
        "  plt.savefig(f'{algo_name}_scores_histogram.pdf')\n",
        "  plt.show()"
      ],
      "metadata": {
        "id": "5Pr_ugu4Mjss"
      },
      "execution_count": null,
      "outputs": []
    },
    {
      "cell_type": "code",
      "source": [
        "def show_anomalies(scores, anomaly_thre, algo_name):\n",
        "  order_index = np.argsort(scores, axis = 0)\n",
        "  indexes_max = order_index[-anomaly_thre:]\n",
        "  indexes_min = order_index[:anomaly_thre]\n",
        "\n",
        "  values_min = scores[indexes_min]\n",
        "  values_max = scores[indexes_max]\n",
        "\n",
        "  print(values_min)\n",
        "  print(values_max)\n",
        "\n",
        "  plt.scatter(indexes_min, values_min, color='m', s=0.9)\n",
        "  plt.scatter(indexes_max, values_max, color='b', s=0.9)\n",
        "  # plt.savefig(f'{algo_name}_min_max_scores.pdf')\n",
        "  plt.show()"
      ],
      "metadata": {
        "id": "KN1X54TtVoNZ"
      },
      "execution_count": null,
      "outputs": []
    },
    {
      "cell_type": "code",
      "source": [
        "## OneClassSVM\n",
        "clf = OneClassSVM(gamma='auto')\n",
        "clf.fit(data_sample)\n",
        "score_1classSVM = clf.score_samples(data)\n",
        "score_1classSVM_binary = clf.predict(data)"
      ],
      "metadata": {
        "id": "c7diFvp8LKq9"
      },
      "execution_count": null,
      "outputs": []
    },
    {
      "cell_type": "code",
      "source": [
        "## GMM\n",
        "gm = GaussianMixture(n_components=5, covariance_type='full', random_state=0)\n",
        "gm.fit(data_sample)\n",
        "score_gm = gm.score_samples(data)\n"
      ],
      "metadata": {
        "id": "8cvv_BwBL3Rz"
      },
      "execution_count": null,
      "outputs": []
    },
    {
      "cell_type": "code",
      "source": [
        "## K-means\n",
        "kmeans = KMeans(n_clusters=5)\n",
        "kmeans.fit(data_sample)\n",
        "score_kmeans = kmeans.transform(data).min(axis=1)"
      ],
      "metadata": {
        "id": "vVu5q6c70BEJ"
      },
      "execution_count": null,
      "outputs": []
    },
    {
      "cell_type": "code",
      "source": [
        "## arg1: score_1classSVM/score_gm/score_kmeans\n",
        "## arg3: 'OneClassSVM'/'GMM'/'Kmeans'\n",
        "hist_plot(score_1classSVM, bins_num=200, algo_name='OneClassSVM')"
      ],
      "metadata": {
        "colab": {
          "base_uri": "https://localhost:8080/",
          "height": 287
        },
        "id": "wZi-GvFVk2Ku",
        "outputId": "e765d8b5-df13-4970-9628-013be27fcb09"
      },
      "execution_count": null,
      "outputs": [
        {
          "output_type": "display_data",
          "data": {
            "image/png": "[encoded data removed]",
            "text/plain": [
              "<Figure size 432x288 with 1 Axes>"
            ]
          },
          "metadata": {
            "needs_background": "light"
          }
        }
      ]
    },
    {
      "cell_type": "code",
      "source": [
        "## arg1: score_1classSVM/score_gm/score_kmeans\n",
        "## arg3: 'OneClassSVM'/'GMM'/'Kmeans'\n",
        "show_anomalies(score_kmeans, anomaly_thre=100, algo_name='kmeans')"
      ],
      "metadata": {
        "colab": {
          "base_uri": "https://localhost:8080/",
          "height": 866
        },
        "id": "e49OtgtRm_4S",
        "outputId": "408cc922-bcf5-4b5d-b257-8d38f199b357"
      },
      "execution_count": null,
      "outputs": [
        {
          "output_type": "stream",
          "name": "stdout",
          "text": [
            "[4.05034737 4.11664641 4.13464643 4.14079755 4.17344377 4.17344377\n",
            " 4.18662559 4.18881897 4.20073855 4.20073855 4.20602529 4.209986\n",
            " 4.21526115 4.2293586  4.23929253 4.24116425 4.24116425 4.2420998\n",
            " 4.25554889 4.25554889 4.26132641 4.26430529 4.26430529 4.27842664\n",
            " 4.28213504 4.29219632 4.29361074 4.2956679  4.29712136 4.30228967\n",
            " 4.30228967 4.31904397 4.31996266 4.31996266 4.32014637 4.32198307\n",
            " 4.32198307 4.32198307 4.33609962 4.33609962 4.33683169 4.34469367\n",
            " 4.34469367 4.34469367 4.35655112 4.3603751  4.36801301 4.36801301\n",
            " 4.36801301 4.3689214  4.37110075 4.3734605  4.37600034 4.3810756\n",
            " 4.39048552 4.39048552 4.39048552 4.39698828 4.39698828 4.39698828\n",
            " 4.39698828 4.39698828 4.39698828 4.39825159 4.40582384 4.41194424\n",
            " 4.41372413 4.41931344 4.42433902 4.42433902 4.42720822 4.42720822\n",
            " 4.42720822 4.42720822 4.42720822 4.42720822 4.42720822 4.42720822\n",
            " 4.43005805 4.43061297 4.43294104 4.43294104 4.43294104 4.43562575\n",
            " 4.43562575 4.43562575 4.43562575 4.43562575 4.43562575 4.43562575\n",
            " 4.43562575 4.43562575 4.43562575 4.43562575 4.43562575 4.43562575\n",
            " 4.43562575 4.43562575 4.43562575 4.43562575]\n",
            "[47.95460209 47.95560752 47.95966233 47.96748215 47.97093624 47.9719913\n",
            " 47.97640008 47.98244067 47.9832068  47.98751463 48.00578531 48.00835441\n",
            " 48.02067642 48.02140865 48.02655614 48.02878027 48.03220776 48.03631157\n",
            " 48.03683838 48.04159608 48.04516127 48.04529434 48.04536087 48.04706852\n",
            " 48.05366012 48.05390957 48.05707475 48.05918661 48.06232927 48.06247338\n",
            " 48.07122961 48.07658785 48.07699233 48.07749654 48.08793406 48.09310213\n",
            " 48.09629242 48.10148728 48.10826523 48.10964396 48.11914449 48.12729817\n",
            " 48.13220743 48.13243987 48.13798499 48.14091777 48.14132171 48.14275482\n",
            " 48.14361246 48.14578138 48.14824343 48.16058496 48.16456721 48.17005333\n",
            " 48.18256066 48.19466127 48.23650627 48.23917905 48.25391534 48.2685202\n",
            " 48.27383999 48.28054408 48.28559223 48.29660253 48.36394462 48.36652224\n",
            " 48.36987073 48.39705214 48.40987501 48.4102712  48.41735253 48.42734276\n",
            " 48.43161659 48.43788089 48.44443581 48.4533869  48.52261955 48.58518012\n",
            " 48.65055136 48.66805315 48.66919709 48.68181148 48.71928511 48.72721264\n",
            " 48.7507689  48.75758225 48.75952172 48.76657419 48.77097122 48.79659722\n",
            " 48.86675548 48.90114047 48.92996489 48.95995846 48.97962309 48.99500115\n",
            " 49.01139076 49.60073152 49.91416996 49.95456928]\n"
          ]
        },
        {
          "output_type": "display_data",
          "data": {
            "image/png": "[encoded data removed]",
            "text/plain": [
              "<Figure size 432x288 with 1 Axes>"
            ]
          },
          "metadata": {
            "needs_background": "light"
          }
        }
      ]
    },
    {
      "cell_type": "code",
      "source": [
        "#### Getting mutual information between anomalies and external variable\n",
        "\n",
        "algo_names = ['oneClassSVM', 'GMM', 'Kmeans']\n",
        "scores = [score_1classSVM, score_gm, score_kmeans]\n",
        "thresholds = [[0.164, 10000000], [-500280.81, 100000000], [0.0, 47.95]]  # ~100 outliears\n",
        "bias = [0, 0.3, 0.6]\n",
        "colors = ['dodgerblue', 'm', 'g']\n",
        "\n",
        "x_pos = np.arange(len(external_vars_list))\n",
        "fig, ax = plt.subplots()\n",
        "\n",
        "for algo_name, s, thre, b, c in zip(algo_names, scores, thresholds, bias, colors):\n",
        "  min_thre = thre[0]\n",
        "  max_thre = thre[1]\n",
        "  scores_labels = np.where((s < min_thre) | (s > max_thre), 0, 1)  # anomalies: 0, otherwise: 1\n",
        "\n",
        "  MI = {}\n",
        "  for var in external_vars_list:\n",
        "    mutual_info = mutual_info_score(external_variables[var].to_numpy(), scores_labels)\n",
        "    MI[var] = mutual_info\n",
        "    print(f'Algo: {algo_name} External Variable: {var} Mutual Information: {mutual_info}')\n",
        "  ax.bar(x_pos + b, list(MI.values()), width=0.3, align='center', alpha=0.7, color=c)\n",
        "\n",
        "ax.set_ylabel('MI')\n",
        "ax.set_xticks(x_pos)\n",
        "ax.set_xticklabels(external_vars_list)\n",
        "ax.yaxis.grid(True)\n",
        "plt.tight_layout()\n",
        "plt.legend(['OneClassSVM', 'GMM', 'K-means'])\n",
        "plt.savefig('MI_anomaly_with_external.pdf')\n",
        "plt.show()"
      ],
      "metadata": {
        "colab": {
          "base_uri": "https://localhost:8080/",
          "height": 505
        },
        "id": "rEk66t3Tag4q",
        "outputId": "c8145c4e-218c-4cc9-dc04-74b38699cabe"
      },
      "execution_count": null,
      "outputs": [
        {
          "output_type": "stream",
          "name": "stdout",
          "text": [
            "Algo: oneClassSVM External Variable: dAge Mutual Information: 8.226605160831921e-05\n",
            "Algo: oneClassSVM External Variable: dHispanic Mutual Information: 7.517736539268663e-06\n",
            "Algo: oneClassSVM External Variable: iYearwrk Mutual Information: 1.792218503963802e-05\n",
            "Algo: oneClassSVM External Variable: iSex Mutual Information: 5.28594707431459e-07\n",
            "Algo: GMM External Variable: dAge Mutual Information: 5.145848084023686e-05\n",
            "Algo: GMM External Variable: dHispanic Mutual Information: 1.4113889333159426e-06\n",
            "Algo: GMM External Variable: iYearwrk Mutual Information: 3.063978285348373e-05\n",
            "Algo: GMM External Variable: iSex Mutual Information: 9.207310516893904e-06\n",
            "Algo: Kmeans External Variable: dAge Mutual Information: 9.70536170937268e-05\n",
            "Algo: Kmeans External Variable: dHispanic Mutual Information: 2.130328103800496e-06\n",
            "Algo: Kmeans External Variable: iYearwrk Mutual Information: 6.812973036636358e-05\n",
            "Algo: Kmeans External Variable: iSex Mutual Information: 1.576924608404258e-06\n"
          ]
        },
        {
          "output_type": "display_data",
          "data": {
            "image/png": "[encoded data removed]",
            "text/plain": [
              "<Figure size 432x288 with 1 Axes>"
            ]
          },
          "metadata": {
            "needs_background": "light"
          }
        }
      ]
    }
  ],
  "metadata": {
    "colab": {
      "name": "temp for unsupervised",
      "provenance": []
    },
    "kernelspec": {
      "display_name": "Python 3",
      "name": "python3"
    },
    "language_info": {
      "name": "python"
    }
  },
  "nbformat": 4,
  "nbformat_minor": 0
}